{
 "cells": [
  {
   "cell_type": "code",
   "execution_count": 1,
   "metadata": {},
   "outputs": [],
   "source": [
    "from dash import Dash, html, dcc, callback, Output, Input, State, dash_table\n",
    "import dash_bootstrap_components as dbc\n",
    "import plotly.express as px\n",
    "import plotly.graph_objects as go\n",
    "from plotly.subplots import make_subplots\n",
    "import pandas as pd\n",
    "import base64\n",
    "import io\n",
    "from THz import THzSpec, THzSpecSet, THzData\n",
    "\n",
    "# global for the data to process\n",
    "data=None \n"
   ]
  },
  {
   "cell_type": "markdown",
   "metadata": {},
   "source": [
    "The system uses the concept of a THzSpectralSet which links the sample measurement with the reference measurement <br>\n",
    "You can create a spectral data set  directly from the THZSpectralSet Class using <br>\n",
    "``` \n",
    "data_set = THzSpecSet(sample_file, ref_file) \n",
    "```\n",
    "The THz data class lets you store multiple THzSpectralSets in a pandas dataframe.  Additional kwargs provided with the add data command will be turned into columns in the dataframe"
   ]
  },
  {
   "cell_type": "code",
   "execution_count": 2,
   "metadata": {},
   "outputs": [
    {
     "name": "stdout",
     "output_type": "stream",
     "text": [
      "Read in file C:\\Users\\chmslw\\Downloads\\Notebook_stuart\\Data/samp2.dat, 30501 points at sampling rate of 1.0e+14 Hz\n",
      "Read in file C:\\Users\\chmslw\\Downloads\\Notebook_stuart\\Data/ref2.dat, 30501 points at sampling rate of 1.0e+14 Hz\n",
      "Read in file C:\\Users\\chmslw\\Downloads\\Notebook_stuart\\Data/samp2.dat, 30501 points at sampling rate of 1.0e+14 Hz\n",
      "Read in file C:\\Users\\chmslw\\Downloads\\Notebook_stuart\\Data/ref2.dat, 30501 points at sampling rate of 1.0e+14 Hz\n"
     ]
    }
   ],
   "source": [
    "reference_file = r\"./ref2.dat\"\n",
    "sample_file = r\"./samp2.dat\"\n",
    "\n",
    "#Create a THz sepctral Set\n",
    "#THz_set = THzSpecSet(sample_file,reference_file)\n",
    "# or just use the Spectral Set directly if created\n",
    "#data = THz_set\n",
    "\n",
    "# Or use the data tool\n",
    "\n",
    "THz_data=THzData()\n",
    "THz_data.add_data(sample_file,reference_file,'sample_1',time=26,conditions='cold')\n",
    "THz_data.add_data(sample_file,reference_file,'sample_1',time=26,conditions='cold', temperature=293)\n",
    "# ability to process all files with the same parameters\n",
    "THz_data.process_all(0,30000,3,20)\n",
    "#select a row of the THz_data frame\n",
    "data = THz_data.df.iloc[0]['data']\n"
   ]
  },
  {
   "cell_type": "code",
   "execution_count": 3,
   "metadata": {},
   "outputs": [],
   "source": [
    "# Helper functions to define the curves\n",
    "\n",
    "def window_fig(start, stop):\n",
    "    ''' generates a figure with the raw data with window superimposed'''\n",
    "    fig = make_subplots(specs=[[{\"secondary_y\": True}]])\n",
    "    fig.update_layout(title='Raw Data and Window')\n",
    "    fig.update_xaxes(title='Time (ps)')\n",
    "    fig.update_yaxes(title='Amplitude (V)', secondary_y=False)\n",
    "    fig.add_traces(data.window_curves(), secondary_ys=[True,True])\n",
    "    fig.add_traces(data.raw_curves())\n",
    "    fig.add_vline(x=stop/data.sample.sampling_rate)\n",
    "    fig.add_vline(x=start/data.sample.sampling_rate)\n",
    "    return fig\n",
    "\n",
    "def processed_fig():\n",
    "    '''generates the windowed and zero padded data plot'''\n",
    "    fig = go.Figure()\n",
    "    fig.update_layout(title='Windowed Signal (ZP)')\n",
    "    fig.update_xaxes(title='Time (ps)')\n",
    "    fig.update_yaxes(title='Amplitude (V)')\n",
    "    fig.add_traces(data.processed_signal_curves())\n",
    "    return fig\n",
    "def spectral_fig():\n",
    "    ''' generates the post fourier transformed spectrum plot'''\n",
    "    fig = go.Figure()\n",
    "    fig.update_layout(title='Amplitude of FFT (ZP)')\n",
    "    fig.update_xaxes(title='Frequency (THz)')\n",
    "    fig.update_yaxes(title='Amplitude (V)', type='log')\n",
    "    fig.add_traces(data.spectral_curves())\n",
    "    return fig\n",
    "def phase_fig():\n",
    "    '''generates the phase plot'''\n",
    "    fig = go.Figure()\n",
    "    fig.update_layout(title='Phase of FFT (ZP)')\n",
    "    fig.update_xaxes(title='Frequency (THz)')\n",
    "    fig.update_yaxes(title='Phase (radians)')\n",
    "    fig.add_traces(data.unwrapped_phase_curves())\n",
    "    fig.add_traces(data.wrapped_phase_curves())\n",
    "    return fig"
   ]
  },
  {
   "cell_type": "code",
   "execution_count": 5,
   "metadata": {},
   "outputs": [
    {
     "data": {
      "text/html": [
       "\n",
       "        <iframe\n",
       "            width=\"100%\"\n",
       "            height=\"650\"\n",
       "            src=\"http://127.0.0.1:8050/\"\n",
       "            frameborder=\"0\"\n",
       "            allowfullscreen\n",
       "            \n",
       "        ></iframe>\n",
       "        "
      ],
      "text/plain": [
       "<IPython.lib.display.IFrame at 0x20fa4803f70>"
      ]
     },
     "metadata": {},
     "output_type": "display_data"
    }
   ],
   "source": [
    "## The dash app to display the figures and sliders\n",
    "\n",
    "# read Bootstrap external theme\n",
    "external_stylesheets = [dbc.themes.BOOTSTRAP]\n",
    "\n",
    "app = Dash(__name__, external_stylesheets=external_stylesheets)\n",
    "\n",
    "# app layout using bootstrap\n",
    "app.layout = html.Div([\n",
    "     dbc.Row([\n",
    "                dbc.Col([\n",
    "             dbc.Row(\n",
    "                  dbc.Col(html.Div(html.H1('THz Spectral Processor', style={'textAlign': 'center'})))\n",
    "             ),\n",
    "             dbc.Row([\n",
    "                dbc.Col(\n",
    "                    html.Div([\n",
    "                        html.Label(\"Window Start and End\", htmlFor=\"window_range\"),\n",
    "                        dcc.RangeSlider(0, len(data.sample.amp),1,marks=None, value=[0,int(len(data.sample.amp)/10)],id='window_range')\n",
    "                        # dcc.RangeSlider(0, 30000,1,marks=None, value=[0,(30000/10)],id='window_range')\n",
    "                        ]), width = 6\n",
    "                        ),\n",
    "                dbc.Col(\n",
    "                    html.Div([\n",
    "                        html.Label(\"Window Curve\", htmlFor=\"window_curve\"),\n",
    "                        dcc.Slider(0, 1,0.01, marks={(i/10): '{}'.format(i/10) for i in range(11)},\n",
    "                        value=0.1,\n",
    "                        id='window_curve')\n",
    "                        ]) ,width = 6\n",
    "\n",
    "             ),\n",
    "             ]),\n",
    "             dbc.Row([\n",
    "                 dbc.Col(\n",
    "                     html.Div([\n",
    "                        html.Label(\"Zero Padding\", htmlFor=\"zero_fill\"),\n",
    "                        dcc.Slider(2,20,1,marks={(i): '{}'.format(2 ** i) for i in range(2,21)},\n",
    "                        value=0.1,\n",
    "                        id='zero_fill')\n",
    "                     ])\n",
    "                 )\n",
    "             ]),\n",
    "             dbc.Row([\n",
    "                  dbc.Col(html.Div(dcc.Graph(id='graph1')), width=6),\n",
    "                  dbc.Col(html.Div(dcc.Graph(id='graph2')), width=6)\n",
    "             ]),\n",
    "             dbc.Row([\n",
    "                  dbc.Col(html.Div(dcc.Graph(id='graph3')), width=6),\n",
    "                  dbc.Col(html.Div(dcc.Graph(id='graph4')), width=6)\n",
    "             ])\n",
    "\n",
    "\n",
    "        ], width=12)\n",
    "\n",
    "     \n",
    "    ])\n",
    "])\n",
    "\n",
    "     \n",
    "# callbacks from the slider updates\n",
    "@callback(\n",
    "    Output('graph1', 'figure',allow_duplicate=True),\n",
    "    Output('graph2', 'figure',allow_duplicate=True),\n",
    "    Output('graph3', 'figure',allow_duplicate=True),\n",
    "    Output('graph4', 'figure',allow_duplicate=True),\n",
    "    Input('window_range', 'value'),\n",
    "    Input('window_curve', 'value'),\n",
    "    Input('zero_fill', 'value'),\n",
    "    prevent_initial_call=True\n",
    "    )\n",
    "def update_figure(rng, curve, zp):\n",
    "    data.process_signals(rng[0],rng[1],curve,zp)\n",
    "    fig=window_fig(rng[0],rng[1])\n",
    "    fig2= processed_fig()\n",
    "    fig3=spectral_fig()\n",
    "    fig4=phase_fig()\n",
    "    return fig,fig2,fig3,fig4\n",
    "\n",
    "#callback for data selection     \n",
    "\n",
    "\n",
    "\n",
    "if __name__ == '__main__':\n",
    "    app.run(debug=True)"
   ]
  },
  {
   "cell_type": "code",
   "execution_count": 30,
   "metadata": {},
   "outputs": [
    {
     "data": {
      "text/html": [
       "\n",
       "        <iframe\n",
       "            width=\"100%\"\n",
       "            height=\"650\"\n",
       "            src=\"http://127.0.0.1:8050/\"\n",
       "            frameborder=\"0\"\n",
       "            allowfullscreen\n",
       "            \n",
       "        ></iframe>\n",
       "        "
      ],
      "text/plain": [
       "<IPython.lib.display.IFrame at 0x2c399c98c40>"
      ]
     },
     "metadata": {},
     "output_type": "display_data"
    },
    {
     "name": "stdout",
     "output_type": "stream",
     "text": [
      "---------------------------------------------------------------------------\n",
      "TypeError                                 Traceback (most recent call last)\n",
      "File c:\\Users\\chmslw\\Anaconda3\\envs\\st_py3.9\\lib\\site-packages\\flask\\app.py:870, in Flask.full_dispatch_request(self=<Flask '__main__'>)\n",
      "    868     rv = self.preprocess_request()\n",
      "    869     if rv is None:\n",
      "--> 870         rv = self.dispatch_request()\n",
      "        self = <Flask '__main__'>\n",
      "        rv = None\n",
      "    871 except Exception as e:\n",
      "    872     rv = self.handle_user_exception(e)\n",
      "\n",
      "File c:\\Users\\chmslw\\Anaconda3\\envs\\st_py3.9\\lib\\site-packages\\flask\\app.py:855, in Flask.dispatch_request(self=<Flask '__main__'>)\n",
      "    853 # otherwise dispatch to the handler for that endpoint\n",
      "    854 view_args: dict[str, t.Any] = req.view_args  # type: ignore[assignment]\n",
      "--> 855 return self.ensure_sync(self.view_functions[rule.endpoint])(**view_args)  # type: ignore[no-any-return]\n",
      "        rule = <Rule '/_dash-layout' (HEAD, GET, OPTIONS) -> /_dash-layout>\n",
      "        view_args = {}\n",
      "        self.view_functions[rule.endpoint] = <bound method Dash.serve_layout of <dash.dash.Dash object at 0x000002C399BFCD90>>\n",
      "        self = <Flask '__main__'>\n",
      "        self.view_functions = {'static': <function Flask.__init__.<locals>.<lambda> at 0x000002C399B92D30>, '_dash_assets.static': <bound method Blueprint.send_static_file of <Blueprint '_dash_assets'>>, '/_dash-component-suites/<string:package_name>/<path:fingerprinted_path>': <bound method Dash.serve_component_suites of <dash.dash.Dash object at 0x000002C399BFCD90>>, '/_dash-layout': <bound method Dash.serve_layout of <dash.dash.Dash object at 0x000002C399BFCD90>>, '/_dash-dependencies': <bound method Dash.dependencies of <dash.dash.Dash object at 0x000002C399BFCD90>>, '/_dash-update-component': <bound method Dash.dispatch of <dash.dash.Dash object at 0x000002C399BFCD90>>, '/_reload-hash': <bound method Dash.serve_reload_hash of <dash.dash.Dash object at 0x000002C399BFCD90>>, '/_favicon.ico': <function Dash._serve_default_favicon at 0x000002C3997459D0>, '/': <bound method Dash.index of <dash.dash.Dash object at 0x000002C399BFCD90>>, '/_alive_51ead058-feb3-4e85-8b5b-af575b466756': <function JupyterDash.serve_alive at 0x000002C3997168B0>, '/<path:path>': <bound method Dash.index of <dash.dash.Dash object at 0x000002C399BFCD90>>}\n",
      "        rule.endpoint = '/_dash-layout'\n",
      "\n",
      "File c:\\Users\\chmslw\\Anaconda3\\envs\\st_py3.9\\lib\\site-packages\\dash\\dash.py:733, in Dash.serve_layout(self=<dash.dash.Dash object>)\n",
      "    729 layout = self._layout_value()\n",
      "    731 # TODO - Set browser cache limit - pass hash into frontend\n",
      "    732 return flask.Response(\n",
      "--> 733     to_json(layout),\n",
      "        layout = Div([Row([Col(<function processor_layout at 0x000002C3998589D0>)])])\n",
      "    734     mimetype=\"application/json\",\n",
      "    735 )\n",
      "\n",
      "File c:\\Users\\chmslw\\Anaconda3\\envs\\st_py3.9\\lib\\site-packages\\dash\\_utils.py:26, in to_json(\n",
      "    value=Div([Row([Col(<function processor_layout at 0x000002C3998589D0>)])])\n",
      ")\n",
      "     22 def to_json(value):\n",
      "     23     # pylint: disable=import-outside-toplevel\n",
      "     24     from plotly.io.json import to_json_plotly\n",
      "---> 26     return to_json_plotly(value)\n",
      "        value = Div([Row([Col(<function processor_layout at 0x000002C3998589D0>)])])\n",
      "\n",
      "File c:\\Users\\chmslw\\Anaconda3\\envs\\st_py3.9\\lib\\site-packages\\plotly\\io\\_json.py:171, in to_json_plotly(\n",
      "    plotly_object={'namespace': 'dash_html_components', 'props': {'children': [Row([Col(<function processor_layout at 0x000002C3998589D0>)])]}, 'type': 'Div'},\n",
      "    pretty=False,\n",
      "    engine='orjson'\n",
      ")\n",
      "    163     pass\n",
      "    165 cleaned = clean_to_json_compatible(\n",
      "    166     plotly_object,\n",
      "    167     numpy_allowed=True,\n",
      "    168     datetime_allowed=True,\n",
      "    169     modules=modules,\n",
      "    170 )\n",
      "--> 171 return _safe(orjson.dumps(cleaned, option=opts).decode(\"utf8\"), _swap_orjson)\n",
      "        opts = 20\n",
      "        cleaned = {'props': {'children': [{'props': {'children': [{'props': {'children': <function processor_layout at 0x000002C3998589D0>}, 'type': 'Col', 'namespace': 'dash_bootstrap_components'}]}, 'type': 'Row', 'namespace': 'dash_bootstrap_components'}]}, 'type': 'Div', 'namespace': 'dash_html_components'}\n",
      "        _swap_orjson = (('<', '\\\\u003c'), ('>', '\\\\u003e'), ('/', '\\\\u002f'), ('\\u2028', '\\\\u2028'), ('\\u2029', '\\\\u2029'))\n",
      "\n",
      "TypeError: Type is not JSON serializable: function\n",
      "\n"
     ]
    }
   ],
   "source": [
    "\n",
    "\n"
   ]
  },
  {
   "cell_type": "code",
   "execution_count": 32,
   "metadata": {},
   "outputs": [
    {
     "name": "stdout",
     "output_type": "stream",
     "text": [
      "Div([Row([Col(<function processor_layout at 0x000002C3998589D0>)])])\n"
     ]
    }
   ],
   "source": [
    "print(app.layout)"
   ]
  }
 ],
 "metadata": {
  "kernelspec": {
   "display_name": "st_py3.9",
   "language": "python",
   "name": "python3"
  },
  "language_info": {
   "codemirror_mode": {
    "name": "ipython",
    "version": 3
   },
   "file_extension": ".py",
   "mimetype": "text/x-python",
   "name": "python",
   "nbconvert_exporter": "python",
   "pygments_lexer": "ipython3",
   "version": "3.9.18"
  }
 },
 "nbformat": 4,
 "nbformat_minor": 2
}
